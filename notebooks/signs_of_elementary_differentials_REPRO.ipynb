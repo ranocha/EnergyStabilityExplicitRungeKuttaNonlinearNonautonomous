{
 "cells": [
  {
   "cell_type": "markdown",
   "metadata": {},
   "source": [
    "# Signs of Elementary Differentials in Expansions\n",
    "\n",
    "With this notebook, you can experiment with the expansions of the energy change during one step of Runge-Kutta methods as described in the paper.\n",
    "\n",
    "Run the cell below to activate the project environment containing the necessary packages."
   ]
  },
  {
   "cell_type": "code",
   "execution_count": null,
   "metadata": {},
   "outputs": [],
   "source": [
    "import Pkg\n",
    "Pkg.activate(\".\")\n",
    "Pkg.instantiate()"
   ]
  },
  {
   "cell_type": "markdown",
   "metadata": {},
   "source": [
    "# Setup\n",
    "\n",
    "Run this cell once to setup some basic functions."
   ]
  },
  {
   "cell_type": "code",
   "execution_count": null,
   "metadata": {
    "scrolled": false
   },
   "outputs": [],
   "source": [
    "using RootedTrees\n",
    "using LinearAlgebra\n",
    "using StaticArrays, DataStructures\n",
    "\n",
    "function doit(A, b, c, max_order_Δt)\n",
    "    println(\"Residual Order Conditions:\")\n",
    "    for order in 1:max_order_Δt+1\n",
    "        println(\"Order \", order, \":\")\n",
    "        for t in RootedTreeIterator(order)\n",
    "            println(\"  \", residual_order_condition(t, A, b, c))\n",
    "        end\n",
    "    end\n",
    "    println()\n",
    "    \n",
    "    M = b*b' - Diagonal(b)*A - A'*Diagonal(b)\n",
    "\n",
    "    #terms = OrderedDict{NTuple{2,RootedTree{Int,Vector{Int}}}, eltype(A)}()\n",
    "    terms = DefaultOrderedDict(0)\n",
    "    for order in 0:max_order_Δt\n",
    "        for order1 in 1:order+1, t1 in RootedTreeIterator(order1)\n",
    "            order2 = order+2 - order1\n",
    "            for t2 in RootedTreeIterator(order2)\n",
    "                if order1 > order2 || (order1 == order2 && t1 < t2)\n",
    "                    trees = (copy(t2),copy(t1))\n",
    "                else\n",
    "                    trees = (copy(t1),copy(t2))\n",
    "                end\n",
    "                \n",
    "                ΦᵢD = derivative_weight(t1, A, b, c) / σ(t1)\n",
    "                ΦⱼD = derivative_weight(t2, A, b, c) / σ(t2)\n",
    "                terms[trees] += ΦᵢD' * M * ΦⱼD\n",
    "            end\n",
    "        end\n",
    "    end\n",
    "    \n",
    "    terms\n",
    "end\n",
    "\n",
    "function printit(terms)\n",
    "    order_Δt = -1\n",
    "    for trees in keys(terms)\n",
    "        t1, t2 = trees\n",
    "        new_order_Δt = order(t1)+order(t2)-2\n",
    "        if new_order_Δt != order_Δt\n",
    "            order_Δt = new_order_Δt\n",
    "            println(\"Δt^\", order_Δt, \":\")\n",
    "        end\n",
    "        println(\"  \", trees)\n",
    "        println(\"  \", terms[trees])\n",
    "        println()\n",
    "    end\n",
    "end\n"
   ]
  },
  {
   "cell_type": "markdown",
   "metadata": {},
   "source": [
    "# Expansions for Classical Algebraically Stable Schemes\n",
    "\n",
    "The residuals of the order conditions are printed at first. This can be used to verify the order of a given method. Afterwards, the terms appearing in the expansion are printed. The rooted trees appearing in the braces have to be substituted by the scalar product of the corresponding elementary differentials. The notation used for the rooted trees is described in the Julia package [RootedTrees.jl](https://github.com/JuliaDiffEq/RootedTrees.jl)."
   ]
  },
  {
   "cell_type": "code",
   "execution_count": null,
   "metadata": {
    "scrolled": true
   },
   "outputs": [],
   "source": [
    "# Lobatto IIIC, Order 2\n",
    "A = @SArray [1//2 -1//2; 1//2 1//2]\n",
    "b = @SArray [1//2, 1//2]\n",
    "c = A * SVector(1, 1)\n",
    "\n",
    "# Radau IIA, Order 3\n",
    "A = @SArray [5//12 -1//12; 3//4 1//4]\n",
    "b = @SArray [3//4, 1//4]\n",
    "c = A * SVector(1, 1)\n",
    "\n",
    "# compute the terms of the expansion up to a maximal order Δt^3\n",
    "terms = doit(A, b, c, 3)\n",
    "printit(terms)"
   ]
  },
  {
   "cell_type": "markdown",
   "metadata": {},
   "source": [
    "## Expansions for Some Special Schemes\n",
    "\n",
    "These schemes are reducible and equivalent to the algebraically (and $B$) stable implicit  midpoint method."
   ]
  },
  {
   "cell_type": "code",
   "execution_count": null,
   "metadata": {},
   "outputs": [],
   "source": [
    "#= Hairer, Nørsett, Wanner II, Table IV.12.2\n",
    "# -> implicit midpoint, all terms are zero\n",
    "A = @SArray [1//2 0; 1//4 1//4]\n",
    "b = @SArray [1//2, 1//2]\n",
    "c = A * SVector(1, 1)=#\n",
    "\n",
    "# Crouzeix (1979), p. 80\n",
    "# -> implicit midpoint, all terms are zero\n",
    "A = @SArray [1//2 0; 0 1//2]\n",
    "b = @SArray [2, -1]\n",
    "c = A * SVector(1, 1)\n",
    "\n",
    "terms = doit(A, b, c, 7)\n",
    "printit(terms)"
   ]
  },
  {
   "cell_type": "markdown",
   "metadata": {},
   "source": [
    "## SSPRK(3,3) and a First Order Stable Method\n",
    "\n",
    "This method is not energy stable for semibounded problems."
   ]
  },
  {
   "cell_type": "code",
   "execution_count": null,
   "metadata": {},
   "outputs": [],
   "source": [
    "# SSPRK33\n",
    "A = @SArray [0 0 0; 1 0 0; 1//4 1//4 0]\n",
    "b = @SArray [1//6, 1//6, 2//3]\n",
    "c = A * SVector(1, 1, 1)\n",
    "\n",
    "# First Order Stable Method of H. Ranocha, \n",
    "# On Strong Stability of Explicit Runge-Kutta Methods for Nonlinear Semibounded Operators,\n",
    "# https://arxiv.org/abs/1811.11601\n",
    "#A = @SArray [0 0; 3//2 0]\n",
    "#b = @SArray [1//2, 1//2]\n",
    "#c = A * SVector(1, 1)\n",
    "\n",
    "# the classical matrix used to define algebraically stable schemes\n",
    "M = b*b' - Diagonal(b)*A - A'*Diagonal(b)\n",
    "display(M)\n",
    "display(eigvals(Float64.(M)))\n",
    "\n",
    "f_and_higher_differentials = b - b .* c - A' * b\n",
    "display(f_and_higher_differentials)\n",
    "\n",
    "for k in 1:9\n",
    "    println(\"k = \", k)\n",
    "    #println(\"  \", (b' * c.^k)^2)\n",
    "    #println(\"  \", -2 * (c.^k .* b)' * A * c.^k)\n",
    "    println(\"  \", ((b' * c.^k)^2 - 2 * (c.^k .* b)' * A * c.^k) / factorial(k)^2)\n",
    "end\n",
    "\n",
    "terms = doit(A, b, c, 6)\n",
    "printit(terms)"
   ]
  },
  {
   "cell_type": "markdown",
   "metadata": {},
   "source": [
    "## Second Order Stable Method\n",
    "\n",
    "This explicit second order method is conditionally energy stable for semibounded autonomous problems."
   ]
  },
  {
   "cell_type": "code",
   "execution_count": null,
   "metadata": {
    "scrolled": true
   },
   "outputs": [],
   "source": [
    "A = @SArray [0 0 0 0; 1 0 0 0; 1 -1 0 0; -1 1 1 0//1]\n",
    "b = @SArray [1//4, 1//4, 1//4, 1//4]\n",
    "c = A * SVector(1, 1, 1, 1)\n",
    "\n",
    "# the classical matrix used to define algebraically stable schemes\n",
    "M = b*b' - Diagonal(b)*A - A'*Diagonal(b)\n",
    "display(M)\n",
    "display(eigvals(Float64.(M)))\n",
    "\n",
    "f_and_higher_differentials = b - b .* c - A' * b\n",
    "display(f_and_higher_differentials)\n",
    "\n",
    "for k in 1:9\n",
    "    println(\"k = \", k)\n",
    "    #println(\"  \", (b' * c.^k)^2)\n",
    "    #println(\"  \", -2 * (c.^k .* b)' * A * c.^k)\n",
    "    println(\"  \", ((b' * c.^k)^2 - 2 * (c.^k .* b)' * A * c.^k) / factorial(k)^2)\n",
    "end\n",
    "\n",
    "terms = doit(A, b, c, 6)\n",
    "printit(terms)"
   ]
  },
  {
   "cell_type": "markdown",
   "metadata": {},
   "source": [
    "# Third Order Stable Method\n",
    "\n",
    "This explicit third order method is conditionally energy stable for semibounded autonomous problems."
   ]
  },
  {
   "cell_type": "code",
   "execution_count": null,
   "metadata": {},
   "outputs": [],
   "source": [
    "A = @SArray [0 0 0 0 0; 1//2 0 0 0 0; 1 0 0 0 0; 1 0 -1 0 0; -3 2 1 1 0]\n",
    "b = @SArray [0, 2//3, 0, 1//6, 1//6]\n",
    "c = A * (zero(b) .+ 1)\n",
    "\n",
    "# the classical matrix used to define algebraically stable schemes\n",
    "M = b*b' - Diagonal(b)*A - A'*Diagonal(b)\n",
    "display(M)\n",
    "display(eigvals(Float64.(M)))\n",
    "\n",
    "f_and_higher_differentials = b - b .* c - A' * b\n",
    "display(f_and_higher_differentials)\n",
    "\n",
    "for k in 1:9\n",
    "    println(\"k = \", k)\n",
    "    #println(\"  \", (b' * c.^k)^2)\n",
    "    #println(\"  \", -2 * (c.^k .* b)' * A * c.^k)\n",
    "    println(\"  \", ((b' * c.^k)^2 - 2 * (c.^k .* b)' * A * c.^k) / factorial(k)^2)\n",
    "end\n",
    "\n",
    "terms = doit(A, b, c, 6)\n",
    "printit(terms)"
   ]
  },
  {
   "cell_type": "markdown",
   "metadata": {},
   "source": [
    "### A Computational Verification of a Calculation the Paper"
   ]
  },
  {
   "cell_type": "code",
   "execution_count": null,
   "metadata": {},
   "outputs": [],
   "source": [
    "import SymPy\n",
    "k = SymPy.symbols(\"k\", integer=true, positive=true)\n",
    "\n",
    "expr = -11//36 + 4//9 * 2^(-k) * (2^(-k) - 1)\n",
    "SymPy.expand((c.^k)' * M * (c.^k) - expr) "
   ]
  },
  {
   "cell_type": "markdown",
   "metadata": {},
   "source": [
    "# Some Analytical Expressions\n",
    "\n",
    "You can also use the provided utilities to generate the expansions and order conditions for symbolic inputs."
   ]
  },
  {
   "cell_type": "code",
   "execution_count": null,
   "metadata": {
    "scrolled": true
   },
   "outputs": [],
   "source": [
    "using SymEngine\n",
    "\n",
    "# this hack needs to be added to get the inner products correct\n",
    "Base.conj(b::Basic) = b\n",
    "\n",
    "A = Basic.(@SArray [0 0 0; \"a21\" 0 0; \"a31\" \"a32\" 0])\n",
    "b = Basic.(@SVector [\"b1\", \"b2\", \"b3\"])\n",
    "c = A * SVector(1, 1, 1)\n",
    "\n",
    "terms = doit(A, b, c, 3)\n",
    "printit(terms)"
   ]
  }
 ],
 "metadata": {
  "@webio": {
   "lastCommId": "9258BEDC180F4FF887D6B3251986209A",
   "lastKernelId": "00283d45-e97e-49bf-9d58-44632680489f"
  },
  "kernelspec": {
   "display_name": "Julia 1.2.0",
   "language": "julia",
   "name": "julia-1.2"
  },
  "language_info": {
   "file_extension": ".jl",
   "mimetype": "application/julia",
   "name": "julia",
   "version": "1.2.0"
  }
 },
 "nbformat": 4,
 "nbformat_minor": 2
}
